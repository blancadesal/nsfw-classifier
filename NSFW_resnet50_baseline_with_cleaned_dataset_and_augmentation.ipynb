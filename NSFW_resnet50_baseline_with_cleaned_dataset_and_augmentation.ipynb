{
 "cells": [
  {
   "cell_type": "markdown",
   "metadata": {
    "id": "7bu-UZ99rILw"
   },
   "source": [
    "# **NSFW Classifier - Data Cleaning + Augmentation Experiment**\n",
    "\n",
    "## **Purpose**\n",
    "\n",
    "The aim of this notebook is to see the joint effect of data cleaning and data augmentation on accuracy and overfitting. \n",
    "\n",
    "Only code is shown here. For a discussion of methodology and results, please refer to the notebook NSFW-resnet50-baseline-with-cleaned-dataset.ipynb"
   ]
  },
  {
   "cell_type": "markdown",
   "metadata": {
    "id": "lWIOUO864VMk"
   },
   "source": [
    "## Setting up the environment"
   ]
  },
  {
   "cell_type": "code",
   "execution_count": null,
   "metadata": {
    "id": "wso7bcImurkV"
   },
   "outputs": [],
   "source": [
    "# Setup Fastai Colab environment\n",
    "!pip install -Uqq fastbook\n",
    "import fastbook\n",
    "fastbook.setup_book()"
   ]
  },
  {
   "cell_type": "code",
   "execution_count": null,
   "metadata": {
    "id": "tQae-K8Su8mh"
   },
   "outputs": [],
   "source": [
    "from fastbook import *\n",
    "from fastai.vision.all import *\n",
    "import os\n",
    "\n",
    "# Some files got mildly corruped during upload to Google Drive.\n",
    "# This helps avoids some problems down the line\n",
    "from PIL import ImageFile\n",
    "ImageFile.LOAD_TRUNCATED_IMAGES = True"
   ]
  },
  {
   "cell_type": "code",
   "execution_count": null,
   "metadata": {
    "id": "lfJJvYOuDUSw"
   },
   "outputs": [],
   "source": [
    "# Set random seed for reproducibility\n",
    "\n",
    "seed = 42\n",
    "\n",
    "# python RNG\n",
    "import random\n",
    "random.seed(seed)\n",
    "\n",
    "# pytorch RNGs\n",
    "import torch\n",
    "torch.manual_seed(seed)\n",
    "torch.backends.cudnn.deterministic = True\n",
    "if torch.cuda.is_available(): torch.cuda.manual_seed_all(seed)\n",
    "\n",
    "# numpy RNG\n",
    "import numpy as np\n",
    "np.random.seed(seed)"
   ]
  },
  {
   "cell_type": "code",
   "execution_count": null,
   "metadata": {
    "colab": {
     "base_uri": "https://localhost:8080/",
     "height": 34
    },
    "id": "Fv1wt-12vtb3",
    "outputId": "70895510-09de-435f-a14d-c31dfc6672cb"
   },
   "outputs": [
    {
     "data": {
      "text/plain": [
       "['NSFW', 'SFW']"
      ]
     },
     "execution_count": 4,
     "metadata": {
      "tags": []
     },
     "output_type": "execute_result"
    }
   ],
   "source": [
    "# Verify image folder location\n",
    "os.listdir(\"../content/gdrive/My Drive/Datasets\")"
   ]
  },
  {
   "cell_type": "code",
   "execution_count": null,
   "metadata": {
    "colab": {
     "base_uri": "https://localhost:8080/",
     "height": 34
    },
    "id": "060BAvMav5Pe",
    "outputId": "871a4061-514a-4c2f-fd00-4e8543b6abc3"
   },
   "outputs": [
    {
     "data": {
      "text/plain": [
       "(#2) [Path('../content/gdrive/My Drive/Datasets/NSFW'),Path('../content/gdrive/My Drive/Datasets/SFW')]"
      ]
     },
     "execution_count": 5,
     "metadata": {
      "tags": []
     },
     "output_type": "execute_result"
    }
   ],
   "source": [
    "# Create Path object to image folders\n",
    "path=Path(\"../content/gdrive/My Drive/Datasets\")\n",
    "path.ls()"
   ]
  },
  {
   "cell_type": "code",
   "execution_count": null,
   "metadata": {
    "colab": {
     "base_uri": "https://localhost:8080/",
     "height": 51
    },
    "id": "Wz364vZFh7EN",
    "outputId": "30bfecb6-5d4a-4671-ea49-bec3d41f0a33"
   },
   "outputs": [
    {
     "name": "stdout",
     "output_type": "stream",
     "text": [
      "total NSFW images: 3059\n",
      "total SFW images: 3110\n"
     ]
    }
   ],
   "source": [
    "print('total NSFW images:', len(os.listdir(os.path.join(path, \"NSFW\"))))\n",
    "print('total SFW images:', len(os.listdir(os.path.join(path, \"SFW\"))))"
   ]
  },
  {
   "cell_type": "markdown",
   "metadata": {
    "id": "z6rj8krK_B2A"
   },
   "source": [
    "## Setting up the image dataloader"
   ]
  },
  {
   "cell_type": "code",
   "execution_count": null,
   "metadata": {
    "id": "3z8Ch-rowWF8"
   },
   "outputs": [],
   "source": [
    "# Define input params for data block \n",
    "\n",
    "# This sets up a train/validate split of 80/20\n",
    "splitter=RandomSplitter(valid_pct=0.2, seed=seed) \n",
    "# ResNet50 requires an input size of (224, 224, 3)\n",
    "item_tfms = [Resize(460)]\n",
    "batch_tfms=aug_transforms(size=224, min_scale=0.75)"
   ]
  },
  {
   "cell_type": "code",
   "execution_count": null,
   "metadata": {
    "id": "yMcPXZCOw8Mk"
   },
   "outputs": [],
   "source": [
    "# Create blueprint for dataloader\n",
    "data_block = DataBlock(\n",
    "                  blocks=[ImageBlock, CategoryBlock],\n",
    "                  get_items=get_image_files,\n",
    "                  get_y=parent_label,\n",
    "                  splitter=splitter,\n",
    "                  item_tfms=item_tfms,\n",
    "                  batch_tfms=batch_tfms)"
   ]
  },
  {
   "cell_type": "code",
   "execution_count": null,
   "metadata": {
    "id": "OlOfIAYaw_jH"
   },
   "outputs": [],
   "source": [
    "# Create dataloader with batch size = 64 \n",
    "dls = data_block.dataloaders(path, bs=64)"
   ]
  },
  {
   "cell_type": "code",
   "execution_count": null,
   "metadata": {
    "id": "nzGaPw9Txy-P"
   },
   "outputs": [],
   "source": [
    "# Run this cell at your own peril!\n",
    "dls.show_batch()"
   ]
  },
  {
   "cell_type": "markdown",
   "metadata": {
    "id": "4Lafiwwa_S-t"
   },
   "source": [
    "## Training "
   ]
  },
  {
   "cell_type": "code",
   "execution_count": null,
   "metadata": {
    "colab": {
     "base_uri": "https://localhost:8080/",
     "height": 17
    },
    "id": "ercRgO61ySOs",
    "outputId": "abefe066-e8bc-4b3e-d921-993aa5babecb"
   },
   "outputs": [
    {
     "data": {
      "application/javascript": [
       "function ClickConnect(){\n",
       "console.log(\"Working\");\n",
       "document.querySelector(\"colab-toolbar-button#connect\").click()\n",
       "}setInterval(ClickConnect,60000)"
      ],
      "text/plain": [
       "<IPython.core.display.Javascript object>"
      ]
     },
     "metadata": {
      "tags": []
     },
     "output_type": "display_data"
    }
   ],
   "source": [
    "# Prevents getting disconnected, use only when training in Colab\n",
    "%%javascript\n",
    "function ClickConnect(){\n",
    "console.log(\"Working\");\n",
    "document.querySelector(\"colab-toolbar-button#connect\").click()\n",
    "}setInterval(ClickConnect,60000)"
   ]
  },
  {
   "cell_type": "code",
   "execution_count": null,
   "metadata": {
    "colab": {
     "base_uri": "https://localhost:8080/",
     "height": 732
    },
    "id": "rGL6WlYyyv1S",
    "outputId": "934a11cf-6213-4f88-b07e-b5924aca63af"
   },
   "outputs": [
    {
     "data": {
      "text/html": [
       "<table border=\"1\" class=\"dataframe\">\n",
       "  <thead>\n",
       "    <tr style=\"text-align: left;\">\n",
       "      <th>epoch</th>\n",
       "      <th>train_loss</th>\n",
       "      <th>valid_loss</th>\n",
       "      <th>accuracy</th>\n",
       "      <th>time</th>\n",
       "    </tr>\n",
       "  </thead>\n",
       "  <tbody>\n",
       "    <tr>\n",
       "      <td>0</td>\n",
       "      <td>0.419611</td>\n",
       "      <td>0.253206</td>\n",
       "      <td>0.918086</td>\n",
       "      <td>01:52</td>\n",
       "    </tr>\n",
       "  </tbody>\n",
       "</table>"
      ],
      "text/plain": [
       "<IPython.core.display.HTML object>"
      ]
     },
     "metadata": {
      "tags": []
     },
     "output_type": "display_data"
    },
    {
     "data": {
      "text/html": [
       "<table border=\"1\" class=\"dataframe\">\n",
       "  <thead>\n",
       "    <tr style=\"text-align: left;\">\n",
       "      <th>epoch</th>\n",
       "      <th>train_loss</th>\n",
       "      <th>valid_loss</th>\n",
       "      <th>accuracy</th>\n",
       "      <th>time</th>\n",
       "    </tr>\n",
       "  </thead>\n",
       "  <tbody>\n",
       "    <tr>\n",
       "      <td>0</td>\n",
       "      <td>0.183145</td>\n",
       "      <td>0.155692</td>\n",
       "      <td>0.946472</td>\n",
       "      <td>01:58</td>\n",
       "    </tr>\n",
       "    <tr>\n",
       "      <td>1</td>\n",
       "      <td>0.120797</td>\n",
       "      <td>0.143683</td>\n",
       "      <td>0.953771</td>\n",
       "      <td>01:57</td>\n",
       "    </tr>\n",
       "    <tr>\n",
       "      <td>2</td>\n",
       "      <td>0.101506</td>\n",
       "      <td>0.212774</td>\n",
       "      <td>0.939173</td>\n",
       "      <td>01:57</td>\n",
       "    </tr>\n",
       "    <tr>\n",
       "      <td>3</td>\n",
       "      <td>0.093320</td>\n",
       "      <td>0.174299</td>\n",
       "      <td>0.940795</td>\n",
       "      <td>01:57</td>\n",
       "    </tr>\n",
       "    <tr>\n",
       "      <td>4</td>\n",
       "      <td>0.102097</td>\n",
       "      <td>0.170852</td>\n",
       "      <td>0.944039</td>\n",
       "      <td>01:55</td>\n",
       "    </tr>\n",
       "    <tr>\n",
       "      <td>5</td>\n",
       "      <td>0.094710</td>\n",
       "      <td>0.141616</td>\n",
       "      <td>0.951338</td>\n",
       "      <td>01:59</td>\n",
       "    </tr>\n",
       "    <tr>\n",
       "      <td>6</td>\n",
       "      <td>0.080680</td>\n",
       "      <td>0.158000</td>\n",
       "      <td>0.947283</td>\n",
       "      <td>01:59</td>\n",
       "    </tr>\n",
       "    <tr>\n",
       "      <td>7</td>\n",
       "      <td>0.084956</td>\n",
       "      <td>0.137192</td>\n",
       "      <td>0.951338</td>\n",
       "      <td>01:58</td>\n",
       "    </tr>\n",
       "    <tr>\n",
       "      <td>8</td>\n",
       "      <td>0.081117</td>\n",
       "      <td>0.136709</td>\n",
       "      <td>0.953771</td>\n",
       "      <td>01:56</td>\n",
       "    </tr>\n",
       "    <tr>\n",
       "      <td>9</td>\n",
       "      <td>0.065478</td>\n",
       "      <td>0.179990</td>\n",
       "      <td>0.943228</td>\n",
       "      <td>01:57</td>\n",
       "    </tr>\n",
       "    <tr>\n",
       "      <td>10</td>\n",
       "      <td>0.057202</td>\n",
       "      <td>0.192556</td>\n",
       "      <td>0.943228</td>\n",
       "      <td>01:56</td>\n",
       "    </tr>\n",
       "    <tr>\n",
       "      <td>11</td>\n",
       "      <td>0.035753</td>\n",
       "      <td>0.190859</td>\n",
       "      <td>0.953771</td>\n",
       "      <td>01:55</td>\n",
       "    </tr>\n",
       "    <tr>\n",
       "      <td>12</td>\n",
       "      <td>0.028653</td>\n",
       "      <td>0.172985</td>\n",
       "      <td>0.957015</td>\n",
       "      <td>01:55</td>\n",
       "    </tr>\n",
       "    <tr>\n",
       "      <td>13</td>\n",
       "      <td>0.024312</td>\n",
       "      <td>0.162166</td>\n",
       "      <td>0.959449</td>\n",
       "      <td>01:55</td>\n",
       "    </tr>\n",
       "    <tr>\n",
       "      <td>14</td>\n",
       "      <td>0.018703</td>\n",
       "      <td>0.172085</td>\n",
       "      <td>0.955393</td>\n",
       "      <td>01:55</td>\n",
       "    </tr>\n",
       "    <tr>\n",
       "      <td>15</td>\n",
       "      <td>0.019103</td>\n",
       "      <td>0.168601</td>\n",
       "      <td>0.957826</td>\n",
       "      <td>01:55</td>\n",
       "    </tr>\n",
       "    <tr>\n",
       "      <td>16</td>\n",
       "      <td>0.012047</td>\n",
       "      <td>0.185218</td>\n",
       "      <td>0.957015</td>\n",
       "      <td>01:55</td>\n",
       "    </tr>\n",
       "    <tr>\n",
       "      <td>17</td>\n",
       "      <td>0.011419</td>\n",
       "      <td>0.194347</td>\n",
       "      <td>0.957015</td>\n",
       "      <td>01:56</td>\n",
       "    </tr>\n",
       "    <tr>\n",
       "      <td>18</td>\n",
       "      <td>0.006717</td>\n",
       "      <td>0.181083</td>\n",
       "      <td>0.961071</td>\n",
       "      <td>01:55</td>\n",
       "    </tr>\n",
       "    <tr>\n",
       "      <td>19</td>\n",
       "      <td>0.009802</td>\n",
       "      <td>0.182686</td>\n",
       "      <td>0.959449</td>\n",
       "      <td>01:55</td>\n",
       "    </tr>\n",
       "  </tbody>\n",
       "</table>"
      ],
      "text/plain": [
       "<IPython.core.display.HTML object>"
      ]
     },
     "metadata": {
      "tags": []
     },
     "output_type": "display_data"
    }
   ],
   "source": [
    "# Instantiate a pre-trained model by substituting the top FC layer with two new ones. (Happens under the hood)\n",
    "learn = cnn_learner(dls, resnet50, metrics=accuracy)\n",
    "# Train the new FC layers for 20 epochs\n",
    "learn.fine_tune(20, 3e-3)"
   ]
  },
  {
   "cell_type": "code",
   "execution_count": null,
   "metadata": {
    "colab": {
     "base_uri": "https://localhost:8080/",
     "height": 311
    },
    "id": "cw6lrfp0zhpZ",
    "outputId": "22b427aa-15b5-44bc-f606-64a019b7d4da"
   },
   "outputs": [
    {
     "data": {
      "text/html": [],
      "text/plain": [
       "<IPython.core.display.HTML object>"
      ]
     },
     "metadata": {
      "tags": []
     },
     "output_type": "display_data"
    },
    {
     "data": {
      "image/png": "[encoded data removed]",
      "text/plain": [
       "<Figure size 432x288 with 1 Axes>"
      ]
     },
     "metadata": {
      "needs_background": "light",
      "tags": []
     },
     "output_type": "display_data"
    }
   ],
   "source": [
    "interp = ClassificationInterpretation.from_learner(learn)\n",
    "interp.plot_confusion_matrix()"
   ]
  },
  {
   "cell_type": "code",
   "execution_count": null,
   "metadata": {
    "id": "cvrGszw9Cr9J"
   },
   "outputs": [],
   "source": [
    "# Only for the brave! \n",
    "interp.plot_top_losses(9, nrows=3)"
   ]
  }
 ],
 "metadata": {
  "accelerator": "GPU",
  "colab": {
   "collapsed_sections": [],
   "name": "Copy of NSFW-resnet50-baseline-with-cleaned-dataset-and-augmentation.ipynb",
   "provenance": []
  },
  "kernelspec": {
   "display_name": "Python 3",
   "language": "python",
   "name": "python3"
  },
  "language_info": {
   "codemirror_mode": {
    "name": "ipython",
    "version": 3
   },
   "file_extension": ".py",
   "mimetype": "text/x-python",
   "name": "python",
   "nbconvert_exporter": "python",
   "pygments_lexer": "ipython3",
   "version": "3.7.6"
  }
 },
 "nbformat": 4,
 "nbformat_minor": 1
}
