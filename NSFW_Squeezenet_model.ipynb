{
 "cells": [
  {
   "cell_type": "markdown",
   "metadata": {
    "id": "7bu-UZ99rILw"
   },
   "source": [
    "# **NSFW Classifier - Testing Squeezenet 1_0 and 1_1**\n",
    "\n",
    "## **Purpose**\n",
    "\n",
    "The aim of this notebook is to evaluate the potential of smaller CNN architectures for the NSFW classification task, in this case Squeezenet 1_0 and 1_1. \n",
    "\n",
    "Only code is shown here. The methodology and results are discussed in my Project Proposal for the Final Application."
   ]
  },
  {
   "cell_type": "markdown",
   "metadata": {
    "id": "lWIOUO864VMk"
   },
   "source": [
    "## Setting up the environment"
   ]
  },
  {
   "cell_type": "code",
   "execution_count": null,
   "metadata": {
    "id": "wso7bcImurkV"
   },
   "outputs": [],
   "source": [
    "# Setup Fastai Colab environment\n",
    "!pip install -Uqq fastbook\n",
    "import fastbook\n",
    "fastbook.setup_book()"
   ]
  },
  {
   "cell_type": "code",
   "execution_count": null,
   "metadata": {
    "id": "tQae-K8Su8mh"
   },
   "outputs": [],
   "source": [
    "from fastbook import *\n",
    "from fastai.vision.all import *\n",
    "import os\n",
    "\n",
    "# Some files got mildly corruped during upload to Google Drive.\n",
    "# This helps avoids some problems down the line\n",
    "from PIL import ImageFile\n",
    "ImageFile.LOAD_TRUNCATED_IMAGES = True"
   ]
  },
  {
   "cell_type": "code",
   "execution_count": null,
   "metadata": {
    "id": "lfJJvYOuDUSw"
   },
   "outputs": [],
   "source": [
    "# Set random seed for reproducibility\n",
    "\n",
    "seed = 42\n",
    "\n",
    "# python RNG\n",
    "import random\n",
    "random.seed(seed)\n",
    "\n",
    "# pytorch RNGs\n",
    "import torch\n",
    "torch.manual_seed(seed)\n",
    "torch.backends.cudnn.deterministic = True\n",
    "if torch.cuda.is_available(): torch.cuda.manual_seed_all(seed)\n",
    "\n",
    "# numpy RNG\n",
    "import numpy as np\n",
    "np.random.seed(seed)"
   ]
  },
  {
   "cell_type": "code",
   "execution_count": null,
   "metadata": {
    "colab": {
     "base_uri": "https://localhost:8080/"
    },
    "id": "Fv1wt-12vtb3",
    "outputId": "ea28de4e-d3cd-4ea5-8449-d993da3978de"
   },
   "outputs": [
    {
     "data": {
      "text/plain": [
       "['NSFW', 'SFW']"
      ]
     },
     "execution_count": 4,
     "metadata": {
      "tags": []
     },
     "output_type": "execute_result"
    }
   ],
   "source": [
    "# Verify image folder location\n",
    "os.listdir(\"../content/gdrive/My Drive/Datasets\")"
   ]
  },
  {
   "cell_type": "code",
   "execution_count": null,
   "metadata": {
    "colab": {
     "base_uri": "https://localhost:8080/"
    },
    "id": "060BAvMav5Pe",
    "outputId": "be86461c-717f-4394-e679-c58833dcd137"
   },
   "outputs": [
    {
     "data": {
      "text/plain": [
       "(#2) [Path('../content/gdrive/My Drive/Datasets/NSFW'),Path('../content/gdrive/My Drive/Datasets/SFW')]"
      ]
     },
     "execution_count": 5,
     "metadata": {
      "tags": []
     },
     "output_type": "execute_result"
    }
   ],
   "source": [
    "# Create Path object to image folders\n",
    "path=Path(\"../content/gdrive/My Drive/Datasets\")\n",
    "path.ls()"
   ]
  },
  {
   "cell_type": "code",
   "execution_count": null,
   "metadata": {
    "colab": {
     "base_uri": "https://localhost:8080/"
    },
    "id": "Wz364vZFh7EN",
    "outputId": "7191140b-a6fb-48ee-f335-76e7e5bfe441"
   },
   "outputs": [
    {
     "name": "stdout",
     "output_type": "stream",
     "text": [
      "total NSFW images: 3059\n",
      "total SFW images: 3110\n"
     ]
    }
   ],
   "source": [
    "print('total NSFW images:', len(os.listdir(os.path.join(path, \"NSFW\"))))\n",
    "print('total SFW images:', len(os.listdir(os.path.join(path, \"SFW\"))))"
   ]
  },
  {
   "cell_type": "markdown",
   "metadata": {
    "id": "z6rj8krK_B2A"
   },
   "source": [
    "## Setting up the image dataloader"
   ]
  },
  {
   "cell_type": "code",
   "execution_count": null,
   "metadata": {
    "id": "3z8Ch-rowWF8"
   },
   "outputs": [],
   "source": [
    "# Define input params for data block \n",
    "\n",
    "# This sets up a train/validate split of 80/20\n",
    "splitter=RandomSplitter(valid_pct=0.2, seed=seed) \n",
    "# Squeezenet requires an input size of (227, 227, 3)\n",
    "item_tfms = [Resize(460)]\n",
    "batch_tfms=aug_transforms(size=227, min_scale=0.75)"
   ]
  },
  {
   "cell_type": "code",
   "execution_count": null,
   "metadata": {
    "id": "yMcPXZCOw8Mk"
   },
   "outputs": [],
   "source": [
    "# Create blueprint for dataloader\n",
    "data_block = DataBlock(\n",
    "                  blocks=[ImageBlock, CategoryBlock],\n",
    "                  get_items=get_image_files,\n",
    "                  get_y=parent_label,\n",
    "                  splitter=splitter,\n",
    "                  item_tfms=item_tfms,\n",
    "                  batch_tfms=batch_tfms)"
   ]
  },
  {
   "cell_type": "code",
   "execution_count": null,
   "metadata": {
    "id": "OlOfIAYaw_jH"
   },
   "outputs": [],
   "source": [
    "# Create dataloader with batch size = 64 \n",
    "dls = data_block.dataloaders(path, bs=64)"
   ]
  },
  {
   "cell_type": "code",
   "execution_count": null,
   "metadata": {
    "id": "nzGaPw9Txy-P"
   },
   "outputs": [],
   "source": [
    "# Run this cell at your own peril!\n",
    "dls.show_batch()"
   ]
  },
  {
   "cell_type": "markdown",
   "metadata": {
    "id": "4Lafiwwa_S-t"
   },
   "source": [
    "## Training "
   ]
  },
  {
   "cell_type": "code",
   "execution_count": null,
   "metadata": {
    "colab": {
     "base_uri": "https://localhost:8080/",
     "height": 17
    },
    "id": "ercRgO61ySOs",
    "outputId": "67c451d3-5b88-4371-ec9f-59ddca8b9a3d"
   },
   "outputs": [
    {
     "data": {
      "application/javascript": [
       "function ClickConnect(){\n",
       "console.log(\"Working\");\n",
       "document.querySelector(\"colab-toolbar-button#connect\").click()\n",
       "}setInterval(ClickConnect,60000)"
      ],
      "text/plain": [
       "<IPython.core.display.Javascript object>"
      ]
     },
     "metadata": {
      "tags": []
     },
     "output_type": "display_data"
    }
   ],
   "source": [
    "# Prevents getting disconnected, use only when training in Colab\n",
    "%%javascript\n",
    "function ClickConnect(){\n",
    "console.log(\"Working\");\n",
    "document.querySelector(\"colab-toolbar-button#connect\").click()\n",
    "}setInterval(ClickConnect, 60000)"
   ]
  },
  {
   "cell_type": "code",
   "execution_count": null,
   "metadata": {
    "colab": {
     "base_uri": "https://localhost:8080/",
     "height": 732
    },
    "id": "xb6nix2w1Fz-",
    "outputId": "7ceced7e-3373-46ab-c64e-e30047173cfb"
   },
   "outputs": [
    {
     "data": {
      "text/html": [
       "<table border=\"1\" class=\"dataframe\">\n",
       "  <thead>\n",
       "    <tr style=\"text-align: left;\">\n",
       "      <th>epoch</th>\n",
       "      <th>train_loss</th>\n",
       "      <th>valid_loss</th>\n",
       "      <th>accuracy</th>\n",
       "      <th>time</th>\n",
       "    </tr>\n",
       "  </thead>\n",
       "  <tbody>\n",
       "    <tr>\n",
       "      <td>0</td>\n",
       "      <td>0.481311</td>\n",
       "      <td>0.249748</td>\n",
       "      <td>0.905921</td>\n",
       "      <td>01:51</td>\n",
       "    </tr>\n",
       "  </tbody>\n",
       "</table>"
      ],
      "text/plain": [
       "<IPython.core.display.HTML object>"
      ]
     },
     "metadata": {
      "tags": []
     },
     "output_type": "display_data"
    },
    {
     "data": {
      "text/html": [
       "<table border=\"1\" class=\"dataframe\">\n",
       "  <thead>\n",
       "    <tr style=\"text-align: left;\">\n",
       "      <th>epoch</th>\n",
       "      <th>train_loss</th>\n",
       "      <th>valid_loss</th>\n",
       "      <th>accuracy</th>\n",
       "      <th>time</th>\n",
       "    </tr>\n",
       "  </thead>\n",
       "  <tbody>\n",
       "    <tr>\n",
       "      <td>0</td>\n",
       "      <td>0.300984</td>\n",
       "      <td>0.196348</td>\n",
       "      <td>0.928629</td>\n",
       "      <td>01:55</td>\n",
       "    </tr>\n",
       "    <tr>\n",
       "      <td>1</td>\n",
       "      <td>0.243439</td>\n",
       "      <td>0.178409</td>\n",
       "      <td>0.938362</td>\n",
       "      <td>01:55</td>\n",
       "    </tr>\n",
       "    <tr>\n",
       "      <td>2</td>\n",
       "      <td>0.221666</td>\n",
       "      <td>0.172265</td>\n",
       "      <td>0.935929</td>\n",
       "      <td>01:54</td>\n",
       "    </tr>\n",
       "    <tr>\n",
       "      <td>3</td>\n",
       "      <td>0.220451</td>\n",
       "      <td>0.217556</td>\n",
       "      <td>0.922141</td>\n",
       "      <td>01:53</td>\n",
       "    </tr>\n",
       "    <tr>\n",
       "      <td>4</td>\n",
       "      <td>0.205812</td>\n",
       "      <td>0.161306</td>\n",
       "      <td>0.946472</td>\n",
       "      <td>01:54</td>\n",
       "    </tr>\n",
       "    <tr>\n",
       "      <td>5</td>\n",
       "      <td>0.190093</td>\n",
       "      <td>0.174897</td>\n",
       "      <td>0.935929</td>\n",
       "      <td>01:53</td>\n",
       "    </tr>\n",
       "    <tr>\n",
       "      <td>6</td>\n",
       "      <td>0.177298</td>\n",
       "      <td>0.161078</td>\n",
       "      <td>0.945661</td>\n",
       "      <td>01:54</td>\n",
       "    </tr>\n",
       "    <tr>\n",
       "      <td>7</td>\n",
       "      <td>0.167951</td>\n",
       "      <td>0.204699</td>\n",
       "      <td>0.920519</td>\n",
       "      <td>01:54</td>\n",
       "    </tr>\n",
       "    <tr>\n",
       "      <td>8</td>\n",
       "      <td>0.162606</td>\n",
       "      <td>0.199138</td>\n",
       "      <td>0.928629</td>\n",
       "      <td>01:54</td>\n",
       "    </tr>\n",
       "    <tr>\n",
       "      <td>9</td>\n",
       "      <td>0.154537</td>\n",
       "      <td>0.177207</td>\n",
       "      <td>0.938362</td>\n",
       "      <td>01:53</td>\n",
       "    </tr>\n",
       "    <tr>\n",
       "      <td>10</td>\n",
       "      <td>0.134008</td>\n",
       "      <td>0.161350</td>\n",
       "      <td>0.951338</td>\n",
       "      <td>01:54</td>\n",
       "    </tr>\n",
       "    <tr>\n",
       "      <td>11</td>\n",
       "      <td>0.122500</td>\n",
       "      <td>0.174240</td>\n",
       "      <td>0.942417</td>\n",
       "      <td>01:53</td>\n",
       "    </tr>\n",
       "    <tr>\n",
       "      <td>12</td>\n",
       "      <td>0.103949</td>\n",
       "      <td>0.164414</td>\n",
       "      <td>0.951338</td>\n",
       "      <td>01:53</td>\n",
       "    </tr>\n",
       "    <tr>\n",
       "      <td>13</td>\n",
       "      <td>0.098409</td>\n",
       "      <td>0.177060</td>\n",
       "      <td>0.931062</td>\n",
       "      <td>01:53</td>\n",
       "    </tr>\n",
       "    <tr>\n",
       "      <td>14</td>\n",
       "      <td>0.083369</td>\n",
       "      <td>0.153645</td>\n",
       "      <td>0.951338</td>\n",
       "      <td>01:54</td>\n",
       "    </tr>\n",
       "    <tr>\n",
       "      <td>15</td>\n",
       "      <td>0.079589</td>\n",
       "      <td>0.141174</td>\n",
       "      <td>0.953771</td>\n",
       "      <td>01:53</td>\n",
       "    </tr>\n",
       "    <tr>\n",
       "      <td>16</td>\n",
       "      <td>0.070366</td>\n",
       "      <td>0.147911</td>\n",
       "      <td>0.955393</td>\n",
       "      <td>01:54</td>\n",
       "    </tr>\n",
       "    <tr>\n",
       "      <td>17</td>\n",
       "      <td>0.071770</td>\n",
       "      <td>0.145565</td>\n",
       "      <td>0.954582</td>\n",
       "      <td>01:54</td>\n",
       "    </tr>\n",
       "    <tr>\n",
       "      <td>18</td>\n",
       "      <td>0.069209</td>\n",
       "      <td>0.145757</td>\n",
       "      <td>0.950527</td>\n",
       "      <td>01:54</td>\n",
       "    </tr>\n",
       "    <tr>\n",
       "      <td>19</td>\n",
       "      <td>0.063263</td>\n",
       "      <td>0.145907</td>\n",
       "      <td>0.952149</td>\n",
       "      <td>01:54</td>\n",
       "    </tr>\n",
       "  </tbody>\n",
       "</table>"
      ],
      "text/plain": [
       "<IPython.core.display.HTML object>"
      ]
     },
     "metadata": {
      "tags": []
     },
     "output_type": "display_data"
    }
   ],
   "source": [
    "# Squeezenet 1_0\n",
    "learn = cnn_learner(dls, squeezenet1_0, metrics=[accuracy])\n",
    "learn.fine_tune(20, 3e-3)"
   ]
  },
  {
   "cell_type": "code",
   "execution_count": null,
   "metadata": {
    "colab": {
     "base_uri": "https://localhost:8080/",
     "height": 732
    },
    "id": "yQFvPFtl573P",
    "outputId": "815ae8c2-341f-4236-81ee-169ddbef6630"
   },
   "outputs": [
    {
     "data": {
      "text/html": [
       "<table border=\"1\" class=\"dataframe\">\n",
       "  <thead>\n",
       "    <tr style=\"text-align: left;\">\n",
       "      <th>epoch</th>\n",
       "      <th>train_loss</th>\n",
       "      <th>valid_loss</th>\n",
       "      <th>accuracy</th>\n",
       "      <th>time</th>\n",
       "    </tr>\n",
       "  </thead>\n",
       "  <tbody>\n",
       "    <tr>\n",
       "      <td>0</td>\n",
       "      <td>0.509514</td>\n",
       "      <td>0.257237</td>\n",
       "      <td>0.904298</td>\n",
       "      <td>01:44</td>\n",
       "    </tr>\n",
       "  </tbody>\n",
       "</table>"
      ],
      "text/plain": [
       "<IPython.core.display.HTML object>"
      ]
     },
     "metadata": {
      "tags": []
     },
     "output_type": "display_data"
    },
    {
     "data": {
      "text/html": [
       "<table border=\"1\" class=\"dataframe\">\n",
       "  <thead>\n",
       "    <tr style=\"text-align: left;\">\n",
       "      <th>epoch</th>\n",
       "      <th>train_loss</th>\n",
       "      <th>valid_loss</th>\n",
       "      <th>accuracy</th>\n",
       "      <th>time</th>\n",
       "    </tr>\n",
       "  </thead>\n",
       "  <tbody>\n",
       "    <tr>\n",
       "      <td>0</td>\n",
       "      <td>0.284393</td>\n",
       "      <td>0.185338</td>\n",
       "      <td>0.929440</td>\n",
       "      <td>01:45</td>\n",
       "    </tr>\n",
       "    <tr>\n",
       "      <td>1</td>\n",
       "      <td>0.245558</td>\n",
       "      <td>0.156542</td>\n",
       "      <td>0.946472</td>\n",
       "      <td>01:45</td>\n",
       "    </tr>\n",
       "    <tr>\n",
       "      <td>2</td>\n",
       "      <td>0.230896</td>\n",
       "      <td>0.181328</td>\n",
       "      <td>0.927818</td>\n",
       "      <td>01:47</td>\n",
       "    </tr>\n",
       "    <tr>\n",
       "      <td>3</td>\n",
       "      <td>0.228424</td>\n",
       "      <td>0.183159</td>\n",
       "      <td>0.926196</td>\n",
       "      <td>01:46</td>\n",
       "    </tr>\n",
       "    <tr>\n",
       "      <td>4</td>\n",
       "      <td>0.189898</td>\n",
       "      <td>0.156439</td>\n",
       "      <td>0.939173</td>\n",
       "      <td>01:47</td>\n",
       "    </tr>\n",
       "    <tr>\n",
       "      <td>5</td>\n",
       "      <td>0.186773</td>\n",
       "      <td>0.213371</td>\n",
       "      <td>0.926196</td>\n",
       "      <td>01:48</td>\n",
       "    </tr>\n",
       "    <tr>\n",
       "      <td>6</td>\n",
       "      <td>0.173490</td>\n",
       "      <td>0.159863</td>\n",
       "      <td>0.941606</td>\n",
       "      <td>01:48</td>\n",
       "    </tr>\n",
       "    <tr>\n",
       "      <td>7</td>\n",
       "      <td>0.162105</td>\n",
       "      <td>0.157449</td>\n",
       "      <td>0.944850</td>\n",
       "      <td>01:51</td>\n",
       "    </tr>\n",
       "    <tr>\n",
       "      <td>8</td>\n",
       "      <td>0.155706</td>\n",
       "      <td>0.178912</td>\n",
       "      <td>0.929440</td>\n",
       "      <td>01:50</td>\n",
       "    </tr>\n",
       "    <tr>\n",
       "      <td>9</td>\n",
       "      <td>0.142726</td>\n",
       "      <td>0.170864</td>\n",
       "      <td>0.938362</td>\n",
       "      <td>01:49</td>\n",
       "    </tr>\n",
       "    <tr>\n",
       "      <td>10</td>\n",
       "      <td>0.135180</td>\n",
       "      <td>0.155424</td>\n",
       "      <td>0.943228</td>\n",
       "      <td>01:49</td>\n",
       "    </tr>\n",
       "    <tr>\n",
       "      <td>11</td>\n",
       "      <td>0.131740</td>\n",
       "      <td>0.163956</td>\n",
       "      <td>0.932684</td>\n",
       "      <td>01:48</td>\n",
       "    </tr>\n",
       "    <tr>\n",
       "      <td>12</td>\n",
       "      <td>0.112591</td>\n",
       "      <td>0.145253</td>\n",
       "      <td>0.949716</td>\n",
       "      <td>01:49</td>\n",
       "    </tr>\n",
       "    <tr>\n",
       "      <td>13</td>\n",
       "      <td>0.097634</td>\n",
       "      <td>0.140644</td>\n",
       "      <td>0.945661</td>\n",
       "      <td>01:50</td>\n",
       "    </tr>\n",
       "    <tr>\n",
       "      <td>14</td>\n",
       "      <td>0.090641</td>\n",
       "      <td>0.148092</td>\n",
       "      <td>0.944039</td>\n",
       "      <td>01:50</td>\n",
       "    </tr>\n",
       "    <tr>\n",
       "      <td>15</td>\n",
       "      <td>0.086469</td>\n",
       "      <td>0.147048</td>\n",
       "      <td>0.942417</td>\n",
       "      <td>01:48</td>\n",
       "    </tr>\n",
       "    <tr>\n",
       "      <td>16</td>\n",
       "      <td>0.077712</td>\n",
       "      <td>0.147481</td>\n",
       "      <td>0.948905</td>\n",
       "      <td>01:49</td>\n",
       "    </tr>\n",
       "    <tr>\n",
       "      <td>17</td>\n",
       "      <td>0.070352</td>\n",
       "      <td>0.150921</td>\n",
       "      <td>0.944850</td>\n",
       "      <td>01:48</td>\n",
       "    </tr>\n",
       "    <tr>\n",
       "      <td>18</td>\n",
       "      <td>0.072017</td>\n",
       "      <td>0.151309</td>\n",
       "      <td>0.944039</td>\n",
       "      <td>01:49</td>\n",
       "    </tr>\n",
       "    <tr>\n",
       "      <td>19</td>\n",
       "      <td>0.066920</td>\n",
       "      <td>0.148715</td>\n",
       "      <td>0.944850</td>\n",
       "      <td>01:51</td>\n",
       "    </tr>\n",
       "  </tbody>\n",
       "</table>"
      ],
      "text/plain": [
       "<IPython.core.display.HTML object>"
      ]
     },
     "metadata": {
      "tags": []
     },
     "output_type": "display_data"
    }
   ],
   "source": [
    "# Squeezenet 1_1\n",
    "learn2 = cnn_learner(dls, squeezenet1_1, metrics=[accuracy])\n",
    "learn2.fine_tune(20, 3e-3)"
   ]
  },
  {
   "cell_type": "code",
   "execution_count": null,
   "metadata": {
    "colab": {
     "base_uri": "https://localhost:8080/",
     "height": 311
    },
    "id": "cw6lrfp0zhpZ",
    "outputId": "923daff3-5413-4447-b8c9-795abdeffb72"
   },
   "outputs": [
    {
     "data": {
      "text/html": [],
      "text/plain": [
       "<IPython.core.display.HTML object>"
      ]
     },
     "metadata": {
      "tags": []
     },
     "output_type": "display_data"
    },
    {
     "data": {
      "image/png": "[encoded data removed]",
      "text/plain": [
       "<Figure size 432x288 with 1 Axes>"
      ]
     },
     "metadata": {
      "needs_background": "light",
      "tags": []
     },
     "output_type": "display_data"
    }
   ],
   "source": [
    "interp = ClassificationInterpretation.from_learner(learn2)\n",
    "interp.plot_confusion_matrix()"
   ]
  },
  {
   "cell_type": "code",
   "execution_count": null,
   "metadata": {
    "id": "cvrGszw9Cr9J"
   },
   "outputs": [],
   "source": [
    "# Only for the brave! \n",
    "interp.plot_top_losses(9, nrows=3)"
   ]
  }
 ],
 "metadata": {
  "accelerator": "GPU",
  "colab": {
   "collapsed_sections": [],
   "name": "NSFW-Squeezenet-model.ipynb",
   "provenance": []
  },
  "kernelspec": {
   "display_name": "Python 3",
   "language": "python",
   "name": "python3"
  },
  "language_info": {
   "codemirror_mode": {
    "name": "ipython",
    "version": 3
   },
   "file_extension": ".py",
   "mimetype": "text/x-python",
   "name": "python",
   "nbconvert_exporter": "python",
   "pygments_lexer": "ipython3",
   "version": "3.7.6"
  }
 },
 "nbformat": 4,
 "nbformat_minor": 1
}
