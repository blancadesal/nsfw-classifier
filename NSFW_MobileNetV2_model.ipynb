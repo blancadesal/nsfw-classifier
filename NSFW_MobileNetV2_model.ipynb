{
  "nbformat": 4,
  "nbformat_minor": 0,
  "metadata": {
    "colab": {
      "name": "NSFW-MobileNetV2-model.ipynb",
      "provenance": [],
      "collapsed_sections": []
    },
    "kernelspec": {
      "name": "python3",
      "display_name": "Python 3"
    },
    "accelerator": "GPU"
  },
  "cells": [
    {
      "cell_type": "markdown",
      "metadata": {
        "id": "7bu-UZ99rILw"
      },
      "source": [
        "# **NSFW Classifier - Testing MobileNet V2**\n",
        "\n",
        "## **Purpose**\n",
        "\n",
        "The aim of this notebook is to evaluate transfer learning with MobileNet V2 for the NSFW classification task, as an example of a modern light-weight architecture designed for use on edge devices.\n",
        "\n",
        "The dataset and hyperparameters used are identical to those used in all the other experiments where data augmentation was used.\n",
        "\n",
        "Similar to Squeezenet, the time it took for the training loss to converge was somewhat longer compared to ResNet50. In terms of accuracy, MobileNet V2 reaches 95-96%, same as ResNet50.\n",
        "\n",
        "As a next step, it would be interesting to compare inference speed between Mobilenet V2 and ResNet50."
      ]
    },
    {
      "cell_type": "markdown",
      "metadata": {
        "id": "lWIOUO864VMk"
      },
      "source": [
        "## Setting up the environment"
      ]
    },
    {
      "cell_type": "code",
      "metadata": {
        "id": "wso7bcImurkV"
      },
      "source": [
        "# Setup Fastai Colab environment\n",
        "!pip install -Uqq fastbook\n",
        "!pip install fastcore==1.2\n",
        "import fastbook\n",
        "fastbook.setup_book()"
      ],
      "execution_count": null,
      "outputs": []
    },
    {
      "cell_type": "code",
      "metadata": {
        "id": "tQae-K8Su8mh"
      },
      "source": [
        "from fastbook import *\n",
        "from fastai.vision.all import *\n",
        "import os\n",
        "\n",
        "# Some files got mildly corruped during upload to Google Drive.\n",
        "# This helps avoids some problems down the line\n",
        "from PIL import ImageFile\n",
        "ImageFile.LOAD_TRUNCATED_IMAGES = True"
      ],
      "execution_count": 2,
      "outputs": []
    },
    {
      "cell_type": "code",
      "metadata": {
        "id": "lfJJvYOuDUSw"
      },
      "source": [
        "# Set random seed for reproducibility\n",
        "\n",
        "seed = 42\n",
        "\n",
        "# python RNG\n",
        "import random\n",
        "random.seed(seed)\n",
        "\n",
        "# pytorch RNGs\n",
        "import torch\n",
        "torch.manual_seed(seed)\n",
        "torch.backends.cudnn.deterministic = True\n",
        "if torch.cuda.is_available(): torch.cuda.manual_seed_all(seed)\n",
        "\n",
        "# numpy RNG\n",
        "import numpy as np\n",
        "np.random.seed(seed)"
      ],
      "execution_count": 10,
      "outputs": []
    },
    {
      "cell_type": "code",
      "metadata": {
        "id": "Fv1wt-12vtb3",
        "outputId": "f13e0cd3-5100-49d7-96f5-b1e1a9807fd2",
        "colab": {
          "base_uri": "https://localhost:8080/"
        }
      },
      "source": [
        "# Verify image folder location\n",
        "os.listdir(\"../content/gdrive/My Drive/Datasets\")"
      ],
      "execution_count": 11,
      "outputs": [
        {
          "output_type": "execute_result",
          "data": {
            "text/plain": [
              "['NSFW', 'SFW']"
            ]
          },
          "metadata": {
            "tags": []
          },
          "execution_count": 11
        }
      ]
    },
    {
      "cell_type": "code",
      "metadata": {
        "id": "060BAvMav5Pe",
        "outputId": "b43ac6a8-33a2-448f-a156-d1c1035d519b",
        "colab": {
          "base_uri": "https://localhost:8080/"
        }
      },
      "source": [
        "# Create Path object to image folders\n",
        "path=Path(\"../content/gdrive/My Drive/Datasets\")\n",
        "path.ls()"
      ],
      "execution_count": 12,
      "outputs": [
        {
          "output_type": "execute_result",
          "data": {
            "text/plain": [
              "(#2) [Path('../content/gdrive/My Drive/Datasets/NSFW'),Path('../content/gdrive/My Drive/Datasets/SFW')]"
            ]
          },
          "metadata": {
            "tags": []
          },
          "execution_count": 12
        }
      ]
    },
    {
      "cell_type": "code",
      "metadata": {
        "id": "Wz364vZFh7EN",
        "outputId": "deb67939-850a-45d8-d35e-f26cf7eb9bea",
        "colab": {
          "base_uri": "https://localhost:8080/"
        }
      },
      "source": [
        "print('total NSFW images:', len(os.listdir(os.path.join(path, \"NSFW\"))))\n",
        "print('total SFW images:', len(os.listdir(os.path.join(path, \"SFW\"))))"
      ],
      "execution_count": 13,
      "outputs": [
        {
          "output_type": "stream",
          "text": [
            "total NSFW images: 3059\n",
            "total SFW images: 3110\n"
          ],
          "name": "stdout"
        }
      ]
    },
    {
      "cell_type": "markdown",
      "metadata": {
        "id": "z6rj8krK_B2A"
      },
      "source": [
        "## Setting up the image dataloader"
      ]
    },
    {
      "cell_type": "code",
      "metadata": {
        "id": "3z8Ch-rowWF8"
      },
      "source": [
        "# Define input params for data block \n",
        "\n",
        "# This sets up a train/validate split of 80/20\n",
        "splitter=RandomSplitter(valid_pct=0.2, seed=seed) \n",
        "# MobileNetV2 requires an input size of (224, 224, 3)\n",
        "item_tfms = [Resize(460)]\n",
        "batch_tfms=aug_transforms(size=224, min_scale=0.75)"
      ],
      "execution_count": 14,
      "outputs": []
    },
    {
      "cell_type": "code",
      "metadata": {
        "id": "yMcPXZCOw8Mk"
      },
      "source": [
        "# Create blueprint for dataloader\n",
        "data_block = DataBlock(\n",
        "                  blocks=[ImageBlock, CategoryBlock],\n",
        "                  get_items=get_image_files,\n",
        "                  get_y=parent_label,\n",
        "                  splitter=splitter,\n",
        "                  item_tfms=item_tfms,\n",
        "                  batch_tfms=batch_tfms)"
      ],
      "execution_count": 15,
      "outputs": []
    },
    {
      "cell_type": "code",
      "metadata": {
        "id": "OlOfIAYaw_jH"
      },
      "source": [
        "# Create dataloader with batch size = 64 \n",
        "dls = data_block.dataloaders(path, bs=64)"
      ],
      "execution_count": 16,
      "outputs": []
    },
    {
      "cell_type": "code",
      "metadata": {
        "id": "nzGaPw9Txy-P"
      },
      "source": [
        "# Run this cell at your own peril!\n",
        "dls.show_batch()"
      ],
      "execution_count": null,
      "outputs": []
    },
    {
      "cell_type": "markdown",
      "metadata": {
        "id": "4Lafiwwa_S-t"
      },
      "source": [
        "## Training "
      ]
    },
    {
      "cell_type": "code",
      "metadata": {
        "id": "ercRgO61ySOs",
        "outputId": "fb263568-ecfd-43f1-f69f-2a0d4d1fa663",
        "colab": {
          "base_uri": "https://localhost:8080/",
          "height": 17
        }
      },
      "source": [
        "# Prevents getting disconnected, use only when training in Colab\n",
        "%%javascript\n",
        "function ClickConnect(){\n",
        "console.log(\"Working\");\n",
        "document.querySelector(\"colab-toolbar-button#connect\").click()\n",
        "}setInterval(ClickConnect, 60000)"
      ],
      "execution_count": 17,
      "outputs": [
        {
          "output_type": "display_data",
          "data": {
            "application/javascript": [
              "function ClickConnect(){\n",
              "console.log(\"Working\");\n",
              "document.querySelector(\"colab-toolbar-button#connect\").click()\n",
              "}setInterval(ClickConnect, 60000)"
            ],
            "text/plain": [
              "<IPython.core.display.Javascript object>"
            ]
          },
          "metadata": {
            "tags": []
          }
        }
      ]
    },
    {
      "cell_type": "code",
      "metadata": {
        "id": "2HnpM1iwZcLy"
      },
      "source": [
        "# MobileNetV2\n",
        "import torchvision.models as models\n",
        "mobilenet = models.mobilenet_v2"
      ],
      "execution_count": 21,
      "outputs": []
    },
    {
      "cell_type": "code",
      "metadata": {
        "id": "xb6nix2w1Fz-",
        "outputId": "8f6279e1-e49b-4007-aeac-54db5b087660",
        "colab": {
          "base_uri": "https://localhost:8080/",
          "height": 732
        }
      },
      "source": [
        "learn = cnn_learner(dls, mobilenet, cut=-1, metrics=[accuracy])\n",
        "learn.fine_tune(20, 3e-3)"
      ],
      "execution_count": 22,
      "outputs": [
        {
          "output_type": "display_data",
          "data": {
            "text/html": [
              "<table border=\"1\" class=\"dataframe\">\n",
              "  <thead>\n",
              "    <tr style=\"text-align: left;\">\n",
              "      <th>epoch</th>\n",
              "      <th>train_loss</th>\n",
              "      <th>valid_loss</th>\n",
              "      <th>accuracy</th>\n",
              "      <th>time</th>\n",
              "    </tr>\n",
              "  </thead>\n",
              "  <tbody>\n",
              "    <tr>\n",
              "      <td>0</td>\n",
              "      <td>0.402420</td>\n",
              "      <td>0.253548</td>\n",
              "      <td>0.918897</td>\n",
              "      <td>16:53</td>\n",
              "    </tr>\n",
              "  </tbody>\n",
              "</table>"
            ],
            "text/plain": [
              "<IPython.core.display.HTML object>"
            ]
          },
          "metadata": {
            "tags": []
          }
        },
        {
          "output_type": "display_data",
          "data": {
            "text/html": [
              "<table border=\"1\" class=\"dataframe\">\n",
              "  <thead>\n",
              "    <tr style=\"text-align: left;\">\n",
              "      <th>epoch</th>\n",
              "      <th>train_loss</th>\n",
              "      <th>valid_loss</th>\n",
              "      <th>accuracy</th>\n",
              "      <th>time</th>\n",
              "    </tr>\n",
              "  </thead>\n",
              "  <tbody>\n",
              "    <tr>\n",
              "      <td>0</td>\n",
              "      <td>0.228450</td>\n",
              "      <td>0.145993</td>\n",
              "      <td>0.950527</td>\n",
              "      <td>01:39</td>\n",
              "    </tr>\n",
              "    <tr>\n",
              "      <td>1</td>\n",
              "      <td>0.187790</td>\n",
              "      <td>0.136391</td>\n",
              "      <td>0.952149</td>\n",
              "      <td>01:41</td>\n",
              "    </tr>\n",
              "    <tr>\n",
              "      <td>2</td>\n",
              "      <td>0.163290</td>\n",
              "      <td>0.131918</td>\n",
              "      <td>0.954582</td>\n",
              "      <td>01:42</td>\n",
              "    </tr>\n",
              "    <tr>\n",
              "      <td>3</td>\n",
              "      <td>0.153991</td>\n",
              "      <td>0.137443</td>\n",
              "      <td>0.952149</td>\n",
              "      <td>01:43</td>\n",
              "    </tr>\n",
              "    <tr>\n",
              "      <td>4</td>\n",
              "      <td>0.130056</td>\n",
              "      <td>0.130418</td>\n",
              "      <td>0.950527</td>\n",
              "      <td>01:43</td>\n",
              "    </tr>\n",
              "    <tr>\n",
              "      <td>5</td>\n",
              "      <td>0.134295</td>\n",
              "      <td>0.139145</td>\n",
              "      <td>0.948094</td>\n",
              "      <td>01:44</td>\n",
              "    </tr>\n",
              "    <tr>\n",
              "      <td>6</td>\n",
              "      <td>0.120750</td>\n",
              "      <td>0.127219</td>\n",
              "      <td>0.952960</td>\n",
              "      <td>01:43</td>\n",
              "    </tr>\n",
              "    <tr>\n",
              "      <td>7</td>\n",
              "      <td>0.114406</td>\n",
              "      <td>0.126215</td>\n",
              "      <td>0.950527</td>\n",
              "      <td>01:44</td>\n",
              "    </tr>\n",
              "    <tr>\n",
              "      <td>8</td>\n",
              "      <td>0.108290</td>\n",
              "      <td>0.125822</td>\n",
              "      <td>0.954582</td>\n",
              "      <td>01:43</td>\n",
              "    </tr>\n",
              "    <tr>\n",
              "      <td>9</td>\n",
              "      <td>0.092900</td>\n",
              "      <td>0.132410</td>\n",
              "      <td>0.955393</td>\n",
              "      <td>01:42</td>\n",
              "    </tr>\n",
              "    <tr>\n",
              "      <td>10</td>\n",
              "      <td>0.083349</td>\n",
              "      <td>0.134631</td>\n",
              "      <td>0.956204</td>\n",
              "      <td>01:43</td>\n",
              "    </tr>\n",
              "    <tr>\n",
              "      <td>11</td>\n",
              "      <td>0.067939</td>\n",
              "      <td>0.136108</td>\n",
              "      <td>0.956204</td>\n",
              "      <td>01:43</td>\n",
              "    </tr>\n",
              "    <tr>\n",
              "      <td>12</td>\n",
              "      <td>0.059278</td>\n",
              "      <td>0.142675</td>\n",
              "      <td>0.956204</td>\n",
              "      <td>01:42</td>\n",
              "    </tr>\n",
              "    <tr>\n",
              "      <td>13</td>\n",
              "      <td>0.055769</td>\n",
              "      <td>0.137249</td>\n",
              "      <td>0.957826</td>\n",
              "      <td>01:43</td>\n",
              "    </tr>\n",
              "    <tr>\n",
              "      <td>14</td>\n",
              "      <td>0.050419</td>\n",
              "      <td>0.131263</td>\n",
              "      <td>0.957826</td>\n",
              "      <td>01:45</td>\n",
              "    </tr>\n",
              "    <tr>\n",
              "      <td>15</td>\n",
              "      <td>0.054406</td>\n",
              "      <td>0.132588</td>\n",
              "      <td>0.954582</td>\n",
              "      <td>01:45</td>\n",
              "    </tr>\n",
              "    <tr>\n",
              "      <td>16</td>\n",
              "      <td>0.046095</td>\n",
              "      <td>0.131012</td>\n",
              "      <td>0.958637</td>\n",
              "      <td>01:46</td>\n",
              "    </tr>\n",
              "    <tr>\n",
              "      <td>17</td>\n",
              "      <td>0.041207</td>\n",
              "      <td>0.135962</td>\n",
              "      <td>0.953771</td>\n",
              "      <td>01:47</td>\n",
              "    </tr>\n",
              "    <tr>\n",
              "      <td>18</td>\n",
              "      <td>0.039065</td>\n",
              "      <td>0.131020</td>\n",
              "      <td>0.957015</td>\n",
              "      <td>01:47</td>\n",
              "    </tr>\n",
              "    <tr>\n",
              "      <td>19</td>\n",
              "      <td>0.044031</td>\n",
              "      <td>0.132413</td>\n",
              "      <td>0.956204</td>\n",
              "      <td>01:47</td>\n",
              "    </tr>\n",
              "  </tbody>\n",
              "</table>"
            ],
            "text/plain": [
              "<IPython.core.display.HTML object>"
            ]
          },
          "metadata": {
            "tags": []
          }
        }
      ]
    },
    {
      "cell_type": "code",
      "metadata": {
        "id": "cw6lrfp0zhpZ",
        "outputId": "cdd9cb6f-4478-4f8c-d135-edad3cb9f24c",
        "colab": {
          "base_uri": "https://localhost:8080/",
          "height": 311
        }
      },
      "source": [
        "interp = ClassificationInterpretation.from_learner(learn)\n",
        "interp.plot_confusion_matrix()"
      ],
      "execution_count": 23,
      "outputs": [
        {
          "output_type": "display_data",
          "data": {
            "text/html": [
              ""
            ],
            "text/plain": [
              "<IPython.core.display.HTML object>"
            ]
          },
          "metadata": {
            "tags": []
          }
        },
        {
          "output_type": "display_data",
          "data": {
            "image/png": "[encoded data removed]",
            "text/plain": [
              "<Figure size 432x288 with 1 Axes>"
            ]
          },
          "metadata": {
            "tags": [],
            "needs_background": "light"
          }
        }
      ]
    },
    {
      "cell_type": "code",
      "metadata": {
        "id": "cvrGszw9Cr9J"
      },
      "source": [
        "# Only for the brave! \n",
        "interp.plot_top_losses(9, nrows=3)"
      ],
      "execution_count": null,
      "outputs": []
    },
    {
      "cell_type": "code",
      "metadata": {
        "id": "pcnwgnVCm4ns"
      },
      "source": [
        ""
      ],
      "execution_count": null,
      "outputs": []
    }
  ]
}