{
 "cells": [
  {
   "cell_type": "markdown",
   "metadata": {
    "id": "7bu-UZ99rILw"
   },
   "source": [
    "# **NSFW Classifier - A Baseline Model**\n",
    "\n",
    "## Introduction\n",
    "\n",
    "### **Purpose**\n",
    "\n",
    "The aim of this notebook is to showcase a **baseline model** for NSFW classification by **transfer learning**. A **custom dataset** containing approximately 2500 JPEG images of each class (NSFW/SFW) was used to fine-tune a **pre-trained ResNet50** ConvNet model.\n",
    "\n",
    "### **Framework**\n",
    "The model was trained in **Fastai**, which is a high-level API on top of **PyTorch**. While this framework has, in my opinion, many drawbacks, it's a great one for **fast prototyping**, reducing both training time and lines of code. However, for production level models, my choice would be Tensorflow + Keras. \n",
    "\n",
    "### **Methodology**\n",
    "The methodology used for creating the dataset is outlined in a separate section below.\n",
    "\n",
    "The Fully Connected (FC) layer of the pre-trained ResNet50 model was removed and *two* new FC layers were added to the remaining convolutional base in its place. **Why two?** This is one of the particularities of Fastai. Simply, their research team have found that adding one additional dense layer often gets better results. \n",
    "\n",
    "All of the above happens under the hood when instantiating a pre-trained model. This is one of the drawbacks I was hinting at above - often in Fastai, it can be difficult to figure out what is going on (even by reading the docs).\n",
    "\n",
    "The resulting model was trained on the NSFW dataset following an **80/20 train/validate split** for **5 epochs** using a **learning rate of 3-e3**, with Adam as the chosen optimizer and no additional frills other than **normalizing** the images using the statistics of the pretrained model. Again, most of this happens under the hood.\n",
    "\n",
    "### **Expected outcomes**\n",
    "ResNet50 was pre-trained on **Imagenet** - a dataset containing millions of images across thousands of different classes, including people, animals, landscapes, everyday scenes and objects, etc. This dataset can be thought of as quite similar to our custom NSFW dataset, as opposed to for example a dataset containing, say, microscope or x-ray images. \n",
    "\n",
    "ResNet50-based models have consistently achieved **SOTA results** across a variety of computer vision tasks since 2015, and it would seem reasonable to expect that even a baseline model trained for a few epochs could achieve an **accuracy in the range of 85-90%**.\n",
    "\n",
    "Due to ResNet50's complexity in terms of layer depth and number of parameters, combined with the small size of our custom dataset, we would also expect the model to start **overfitting** quite quickly. "
   ]
  },
  {
   "cell_type": "markdown",
   "metadata": {
    "id": "x9eqQZEorgtT"
   },
   "source": [
    "## The Dataset\n",
    "\n",
    "I decided to create a custom dataset using the following GitHub sources:\n",
    "\n",
    "-  **SFW images**: The **neutral.txt** file from [alex000kim/nsfw_data_scraper](https://github.com/alex000kim/nsfw_data_scraper/tree/master/scripts/source_urls)\n",
    "- **NSFW images**: All the NSFW links from [EBazarov/nsfw_data_source_urls](https://github.com/EBazarov/nsfw_data_source_urls)\n",
    "\n",
    "These sources are discussed in the Datasets comparison report.\n",
    "\n",
    "For the purpose of creating the dataset, I wrote 3 **bash scripts**, that can be found in the script folder in this same repo:\n",
    "\n",
    "1. `get_urls.bash`: crawls the links a txt file containing domain urls (for instance, a whole subreddit) and extracts image urls from them, saving them to a txt file.\n",
    "\n",
    "2. `get_url_sample.bash`: given a txt file containing image urls,\n",
    "creates a random sample of size n and outputs it as a new txt file.\n",
    "\n",
    "3. `get_images.bash`: given a txt file containing image urls, downloads them using wget. Files that already exist in the target directory are not downloaded again.\n",
    "\n",
    "The **first script** yielded ~35.000 direct links to SFW images, and ~85.000 to NSFW images.\n",
    "\n",
    "From these links, I randomly sampled **~2500 images from each category** by using the **second script**, and subsequently downloaded them with the **third script**.\n",
    "\n",
    "As some of the links were dead, and some of the images corrupted, I ended up with **2434 NSFW** and **2495 SFW** images, for a grand total of **4929** images."
   ]
  },
  {
   "cell_type": "markdown",
   "metadata": {
    "id": "lWIOUO864VMk"
   },
   "source": [
    "## Setting up the environment"
   ]
  },
  {
   "cell_type": "code",
   "execution_count": null,
   "metadata": {
    "id": "wso7bcImurkV"
   },
   "outputs": [],
   "source": [
    "# Setup Fastai Colab environment\n",
    "!pip install -Uqq fastbook\n",
    "import fastbook\n",
    "fastbook.setup_book()"
   ]
  },
  {
   "cell_type": "code",
   "execution_count": 40,
   "metadata": {
    "id": "tQae-K8Su8mh"
   },
   "outputs": [],
   "source": [
    "from fastbook import *\n",
    "from fastai.vision.all import *\n",
    "import os\n",
    "\n",
    "# Some files got mildly corruped during upload to Google Drive.\n",
    "# This helps avoids some problems down the line\n",
    "from PIL import ImageFile\n",
    "ImageFile.LOAD_TRUNCATED_IMAGES = True"
   ]
  },
  {
   "cell_type": "code",
   "execution_count": 33,
   "metadata": {
    "colab": {
     "base_uri": "https://localhost:8080/",
     "height": 34
    },
    "id": "Fv1wt-12vtb3",
    "outputId": "40204a5e-0163-45c8-f139-7f0a22061bd4"
   },
   "outputs": [
    {
     "data": {
      "text/plain": [
       "['NSFW', 'SFW']"
      ]
     },
     "execution_count": 33,
     "metadata": {
      "tags": []
     },
     "output_type": "execute_result"
    }
   ],
   "source": [
    "# Locate image folders\n",
    "os.listdir(\"../content/gdrive/My Drive/Datasets/Large\")"
   ]
  },
  {
   "cell_type": "code",
   "execution_count": 50,
   "metadata": {
    "colab": {
     "base_uri": "https://localhost:8080/",
     "height": 34
    },
    "id": "060BAvMav5Pe",
    "outputId": "9cfa0d93-e2f4-4afd-dffd-9b11c6ed7ce3"
   },
   "outputs": [
    {
     "data": {
      "text/plain": [
       "(#2) [Path('../content/gdrive/My Drive/Datasets/Large/NSFW'),Path('../content/gdrive/My Drive/Datasets/Large/SFW')]"
      ]
     },
     "execution_count": 50,
     "metadata": {
      "tags": []
     },
     "output_type": "execute_result"
    }
   ],
   "source": [
    "# Create Path object to image folders\n",
    "path=Path(\"../content/gdrive/My Drive/Datasets/Large\")\n",
    "path.ls()"
   ]
  },
  {
   "cell_type": "code",
   "execution_count": 51,
   "metadata": {
    "colab": {
     "base_uri": "https://localhost:8080/",
     "height": 51
    },
    "id": "Wz364vZFh7EN",
    "outputId": "59de75fa-ab19-4037-f043-14ec333a92e3"
   },
   "outputs": [
    {
     "name": "stdout",
     "output_type": "stream",
     "text": [
      "total NSFW images: 2434\n",
      "total SFW images: 2495\n"
     ]
    }
   ],
   "source": [
    "print('total NSFW images:', len(os.listdir(os.path.join(path, \"NSFW\"))))\n",
    "print('total SFW images:', len(os.listdir(os.path.join(path, \"SFW\"))))"
   ]
  },
  {
   "cell_type": "markdown",
   "metadata": {
    "id": "z6rj8krK_B2A"
   },
   "source": [
    "## Setting up the image dataloader"
   ]
  },
  {
   "cell_type": "code",
   "execution_count": 52,
   "metadata": {
    "id": "3z8Ch-rowWF8"
   },
   "outputs": [],
   "source": [
    "# Define input params for data block \n",
    "\n",
    "# This sets up a train/validate split of 80/20\n",
    "splitter=RandomSplitter(valid_pct=0.2, seed=seed) \n",
    "# ResNet50 requires an input size of (224, 224, 3)\n",
    "item_tfms = [Resize(224)] "
   ]
  },
  {
   "cell_type": "code",
   "execution_count": 53,
   "metadata": {
    "id": "yMcPXZCOw8Mk"
   },
   "outputs": [],
   "source": [
    "# Create blueprint for dataloader\n",
    "data_block = DataBlock(\n",
    "                  blocks=[ImageBlock, CategoryBlock],\n",
    "                  get_items=get_image_files,\n",
    "                  get_y=parent_label,\n",
    "                  splitter=splitter,\n",
    "                  item_tfms=item_tfms)"
   ]
  },
  {
   "cell_type": "code",
   "execution_count": 54,
   "metadata": {
    "id": "OlOfIAYaw_jH"
   },
   "outputs": [],
   "source": [
    "# Create dataloader with batch size = 64 \n",
    "dls = data_block.dataloaders(path, bs=64)"
   ]
  },
  {
   "cell_type": "markdown",
   "metadata": {
    "id": "9_dlvoR-962J"
   },
   "source": [
    "## Taking a sneak-peak at the images\n",
    "\n",
    "I've not included the output of this cell, for obvious reasons.\n",
    "\n",
    "Of the 9 images displayed, 5 were labeled SFW, and 4 NSFW. All are correctly labeled, although one of the SFW images - a scantily clad female - is very close to being NSFW, depending on were one choses to draw the line.\n",
    "\n",
    "All but one of the images - a bowl of ramen - depict people, alone or in groups. One is a close up of a tattooed arm, and one is a collage of two different pictures."
   ]
  },
  {
   "cell_type": "code",
   "execution_count": null,
   "metadata": {
    "id": "nzGaPw9Txy-P"
   },
   "outputs": [],
   "source": [
    "# Run this cell at your own peril!\n",
    "dls.show_batch()"
   ]
  },
  {
   "cell_type": "markdown",
   "metadata": {
    "id": "4Lafiwwa_S-t"
   },
   "source": [
    "## Training "
   ]
  },
  {
   "cell_type": "code",
   "execution_count": 16,
   "metadata": {
    "colab": {
     "base_uri": "https://localhost:8080/",
     "height": 17
    },
    "id": "ercRgO61ySOs",
    "outputId": "249d320e-4011-49b3-f853-a8adfeb58ad1"
   },
   "outputs": [
    {
     "data": {
      "application/javascript": [
       "function ClickConnect(){\n",
       "console.log(\"Working\");\n",
       "document.querySelector(\"colab-toolbar-button#connect\").click()\n",
       "}setInterval(ClickConnect,60000)"
      ],
      "text/plain": [
       "<IPython.core.display.Javascript object>"
      ]
     },
     "metadata": {
      "tags": []
     },
     "output_type": "display_data"
    }
   ],
   "source": [
    "# Prevents getting disconnected, use only when training in Colab\n",
    "%%javascript\n",
    "function ClickConnect(){\n",
    "console.log(\"Working\");\n",
    "document.querySelector(\"colab-toolbar-button#connect\").click()\n",
    "}setInterval(ClickConnect,60000)"
   ]
  },
  {
   "cell_type": "code",
   "execution_count": 56,
   "metadata": {
    "colab": {
     "base_uri": "https://localhost:8080/",
     "height": 267
    },
    "id": "rGL6WlYyyv1S",
    "outputId": "9ced4147-aada-42ab-a4d6-26326d09b07f"
   },
   "outputs": [
    {
     "data": {
      "text/html": [
       "<table border=\"1\" class=\"dataframe\">\n",
       "  <thead>\n",
       "    <tr style=\"text-align: left;\">\n",
       "      <th>epoch</th>\n",
       "      <th>train_loss</th>\n",
       "      <th>valid_loss</th>\n",
       "      <th>accuracy</th>\n",
       "      <th>time</th>\n",
       "    </tr>\n",
       "  </thead>\n",
       "  <tbody>\n",
       "    <tr>\n",
       "      <td>0</td>\n",
       "      <td>0.489267</td>\n",
       "      <td>0.411146</td>\n",
       "      <td>0.890355</td>\n",
       "      <td>05:06</td>\n",
       "    </tr>\n",
       "  </tbody>\n",
       "</table>"
      ],
      "text/plain": [
       "<IPython.core.display.HTML object>"
      ]
     },
     "metadata": {
      "tags": []
     },
     "output_type": "display_data"
    },
    {
     "data": {
      "text/html": [
       "<table border=\"1\" class=\"dataframe\">\n",
       "  <thead>\n",
       "    <tr style=\"text-align: left;\">\n",
       "      <th>epoch</th>\n",
       "      <th>train_loss</th>\n",
       "      <th>valid_loss</th>\n",
       "      <th>accuracy</th>\n",
       "      <th>time</th>\n",
       "    </tr>\n",
       "  </thead>\n",
       "  <tbody>\n",
       "    <tr>\n",
       "      <td>0</td>\n",
       "      <td>0.249647</td>\n",
       "      <td>0.287160</td>\n",
       "      <td>0.923858</td>\n",
       "      <td>04:57</td>\n",
       "    </tr>\n",
       "    <tr>\n",
       "      <td>1</td>\n",
       "      <td>0.167035</td>\n",
       "      <td>0.299071</td>\n",
       "      <td>0.909645</td>\n",
       "      <td>04:59</td>\n",
       "    </tr>\n",
       "    <tr>\n",
       "      <td>2</td>\n",
       "      <td>0.116006</td>\n",
       "      <td>0.272392</td>\n",
       "      <td>0.918782</td>\n",
       "      <td>05:03</td>\n",
       "    </tr>\n",
       "    <tr>\n",
       "      <td>3</td>\n",
       "      <td>0.061755</td>\n",
       "      <td>0.265079</td>\n",
       "      <td>0.930964</td>\n",
       "      <td>05:08</td>\n",
       "    </tr>\n",
       "    <tr>\n",
       "      <td>4</td>\n",
       "      <td>0.029833</td>\n",
       "      <td>0.292940</td>\n",
       "      <td>0.924873</td>\n",
       "      <td>05:13</td>\n",
       "    </tr>\n",
       "  </tbody>\n",
       "</table>"
      ],
      "text/plain": [
       "<IPython.core.display.HTML object>"
      ]
     },
     "metadata": {
      "tags": []
     },
     "output_type": "display_data"
    }
   ],
   "source": [
    "# Instantiate a pre-trained model by substituting the top FC layer with two new ones. (Happens under the hood)\n",
    "learn = cnn_learner(dls, resnet50, metrics=accuracy)\n",
    "# Train the new FC layers for 5 epochs\n",
    "learn.fine_tune(5, 3e-3)"
   ]
  },
  {
   "cell_type": "markdown",
   "metadata": {
    "id": "ajUrxGe3E7lm"
   },
   "source": [
    "## Training results\n",
    "\n",
    "Fastai has no convenient way of plotting the training and validation loss curves (it used to have one, but it's no longer working for some reason), but from the table above we get a pretty clear picture of what is going on:\n",
    "\n",
    "- The **training loss** converges rather smoothly and quite fast reaching 0.03 at the end.\n",
    "- After an intial downward jump, the **validation loss** stalls in the very beginning of training and seems to start diverging at the end of the last epoch, although there is not enough data to really tell. \n",
    "- The model behaves the way we would expect it to: showing signs of **overfitting** already early on.\n",
    "- The final **accuracy** is ~92.5%, which is promising at this stage, even though we wouldn't expect it to generalize well to unseen data. \n",
    "- We also note that training on a dataset containing 5000 images takes around **5 min/epoch**.\n",
    "\n",
    "\n",
    "Next, let's take a look at the **confusion matrix**."
   ]
  },
  {
   "cell_type": "code",
   "execution_count": 57,
   "metadata": {
    "colab": {
     "base_uri": "https://localhost:8080/",
     "height": 310
    },
    "id": "cw6lrfp0zhpZ",
    "outputId": "a60495d7-bba3-4748-c6c8-2e90a1dccd56"
   },
   "outputs": [
    {
     "data": {
      "text/html": [],
      "text/plain": [
       "<IPython.core.display.HTML object>"
      ]
     },
     "metadata": {
      "tags": []
     },
     "output_type": "display_data"
    },
    {
     "data": {
      "image/png": "[encoded data removed]",
      "text/plain": [
       "<Figure size 432x288 with 1 Axes>"
      ]
     },
     "metadata": {
      "needs_background": "light",
      "tags": []
     },
     "output_type": "display_data"
    }
   ],
   "source": [
    "interp = ClassificationInterpretation.from_learner(learn)\n",
    "interp.plot_confusion_matrix()"
   ]
  },
  {
   "cell_type": "markdown",
   "metadata": {
    "id": "nKOar1D9JZRG"
   },
   "source": [
    "## Confusion matrix\n",
    "\n",
    "The main takeaway here is that **NSFW images were incorrectly classified about twice as often as SFW images**, which is not too great if our primary aim is to protect innocent people's eyeballs and sensibilities from unsavoury content.\n",
    "\n",
    "If this were a commercial NSFW filter, we would prefer to **err on the side of caution** - flagging as many of the NSFW images as possible at the expense of catching a few of the innocent ones too. \n",
    "\n",
    "One way to achieve this could simply be to **change the threshold** of the inference score so that we cast a wider net, increasing recall for the NSFW category while reducing overall precision. Luckily, there are many other ways in which we can improve our model before having to consider this option.\n",
    "\n",
    "Next, we're going to take a look at those cases where the model was most ***confidently incorrect***, that is, the misclassified images with the highest losses. "
   ]
  },
  {
   "cell_type": "markdown",
   "metadata": {
    "id": "cXfKikTVN283"
   },
   "source": [
    "## Misclassified images\n",
    "\n",
    "Below are 9 of the **most badly misclassified** images. Again, I'm not displaying them for obvious reasons. In all cases, the model assigned a probability of 1 to the images - meaning it was 100% sure they belonged to the incorrect class. Ouch!\n",
    "\n",
    "**Main takeaways:**\n",
    "\n",
    "- 3 of the images were of the same picture coming from Tumblr displaying the text \"the image you're requesting is no longer available\"\n",
    "- 1 is a drawing with an SFW picture but NSFW text\n",
    "- 4 of the images are mislabeled in the dataset\n",
    "- The remaining image is correctly labeled - it shows a couple having sex.\n",
    "\n",
    "To summarize, all but one of these images were misclassified because of **issues with the dataset**. Some of the images are in the **wrong category**, or are an artifact of **missing links** when downloading them from the internet. Drawings and images featuring heavy text content could potentially be excluded altohether, or limited to cartoons/hentai.\n",
    "\n",
    "This is good news because it means that we could potentially see the accuracy improve just by **cleaning and improving the overall quality of the dataset**."
   ]
  },
  {
   "cell_type": "code",
   "execution_count": null,
   "metadata": {
    "id": "cvrGszw9Cr9J"
   },
   "outputs": [],
   "source": [
    "# Only for the brave! \n",
    "interp.plot_top_losses(9, nrows=3)"
   ]
  },
  {
   "cell_type": "markdown",
   "metadata": {
    "id": "67naWCAlRwuV"
   },
   "source": [
    "## Conclusion\n",
    "\n",
    "This experiment shows that transfer learning with ResNet50 and a custom NSFW dataset is a promising baseline for further explorations, both in terms of accuracy and a reasonable training time.\n",
    "\n",
    "Some possible next steps would be **cleaning the dataset** to reduce noise and using **data augmentation** to reduce overfitting. \n",
    "\n",
    "Simply **adding more images** is another possibility, although I would have to test training times in TF-Keras too (quite a bit slower, in my experience) to see if that is feasible with my setup."
   ]
  }
 ],
 "metadata": {
  "colab": {
   "collapsed_sections": [],
   "name": "NSFW-resnet50-baseline.ipynb",
   "provenance": []
  },
  "kernelspec": {
   "display_name": "Python 3",
   "language": "python",
   "name": "python3"
  },
  "language_info": {
   "codemirror_mode": {
    "name": "ipython",
    "version": 3
   },
   "file_extension": ".py",
   "mimetype": "text/x-python",
   "name": "python",
   "nbconvert_exporter": "python",
   "pygments_lexer": "ipython3",
   "version": "3.7.6"
  }
 },
 "nbformat": 4,
 "nbformat_minor": 1
}
